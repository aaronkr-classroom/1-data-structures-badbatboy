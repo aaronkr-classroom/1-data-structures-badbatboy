{
 "cells": [
  {
   "cell_type": "markdown",
   "metadata": {},
   "source": [
    "# 0. Hello, Python! (Basic Data Types)\n",
    "\n",
    "This is a Python refresher notebook. It covers the basic data types in Python."
   ]
  },
  {
   "cell_type": "code",
   "execution_count": null,
   "metadata": {},
   "outputs": [],
   "source": [
    "# --- Numeric Types ---\n",
    "# Integer\n",
    "1\n",
    "\n",
    "# Float\n",
    "1.0\n",
    "\n",
    "# Complex\n",
    "1 + 2j\n",
    "\n",
    "# --- String and Character ---\n",
    "# String\n",
    "a = \"word\" \n",
    "\n",
    "# Character (In Python, a single character is just a string of length 1)\n",
    "    #single charachter\n",
    "char = \"A\"\n",
    "# --- Boolean ---\n",
    "# Boolean values\n",
    "true, false ...\n",
    "\n",
    "# --- Arrays (Lists) ---\n",
    "# List\n",
    "lst = []\n",
    "\n",
    "# Accessing list elements\n",
    "lst = [None, None, 1]\n",
    "print(lst[2])\n",
    "\n",
    "# Adding to a list\n",
    "lst.append(None)\n",
    "\n",
    "# --- Objects (using classes) ---\n",
    "class Person:\n",
    "    def __init__(self, name, age):\n",
    "        self.name = name\n",
    "        self.age = age\n",
    "    def greet(self):\n",
    "    return f\"Hello, my name is {self.name} and I am {self.age} years old.\"\n",
    "\n",
    "person1 = Person(\"Alice\", 25)\n",
    "print(person1.name)  # Output: Alice\n",
    "print(person1.age)   # Output: 25\n",
    "print(person1.greet())  # Output: Hello, my name is Alice and I am 25 years old.\n",
    "\n",
    "# Create an object of the Person class\n",
    "#Created already above\n",
    "\n",
    "# --- Type Conversion ---\n",
    "# Convert integer to float\n",
    "a = 2\n",
    "b = float(a)\n",
    "# We have round, math.floor, math.ceil for that\n",
    "# Convert float to integer (truncates the decimal part)\n",
    "\n",
    "a = 2.6\n",
    "b = int(a)\n",
    "# We have round, math.floor, math.ceil for that\n",
    "# Convert boolean to integer\n",
    "A = True\n",
    "b = int(a) #1\n",
    "c = False \n",
    "d = int(c) #0\n",
    "# --- Type Checking ---\n"
   ]
  },
  {
   "cell_type": "code",
   "execution_count": 3,
   "metadata": {},
   "outputs": [],
   "source": [
    "a = 2.6\n",
    "b = int(a)"
   ]
  },
  {
   "cell_type": "code",
   "execution_count": 4,
   "metadata": {},
   "outputs": [
    {
     "name": "stdout",
     "output_type": "stream",
     "text": [
      "2\n"
     ]
    }
   ],
   "source": [
    "a = 2.6\n",
    "b = int(a)\n",
    "print(b)"
   ]
  },
  {
   "cell_type": "code",
   "execution_count": 2,
   "metadata": {},
   "outputs": [
    {
     "name": "stdout",
     "output_type": "stream",
     "text": [
      "Alice\n",
      "25\n",
      "Hello, my name is Alice and I am 25 years old.\n"
     ]
    }
   ],
   "source": [
    "class Person:\n",
    "    def __init__(self, name, age):\n",
    "        self.name = name\n",
    "        self.age = age\n",
    "    def greet(self):\n",
    "        return f\"Hello, my name is {self.name} and I am {self.age} years old.\"\n",
    "\n",
    "person1 = Person(\"Alice\", 25)\n",
    "print(person1.name)  # Output: Alice\n",
    "print(person1.age)   # Output: 25\n",
    "print(person1.greet())  # Output: Hello, my name is Alice and I am 25 years old."
   ]
  },
  {
   "cell_type": "code",
   "execution_count": 1,
   "metadata": {},
   "outputs": [
    {
     "ename": "IndentationError",
     "evalue": "expected an indented block after function definition on line 5 (1614590865.py, line 6)",
     "output_type": "error",
     "traceback": [
      "\u001b[0;36m  Cell \u001b[0;32mIn[1], line 6\u001b[0;36m\u001b[0m\n\u001b[0;31m    return f\"Hello, my name is {self.name} and I am {self.age} years old.\"\u001b[0m\n\u001b[0m    ^\u001b[0m\n\u001b[0;31mIndentationError\u001b[0m\u001b[0;31m:\u001b[0m expected an indented block after function definition on line 5\n"
     ]
    }
   ],
   "source": [
    "class Person:\n",
    "    def __init__(self, name, age):\n",
    "        self.name = name\n",
    "        self.age = age\n",
    "    def greet(self):\n",
    "        return f\"Hello, my name is {self.name} and I am {self.age} years old.\"\n",
    "\n",
    "person1 = Person(\"Alice\", 25)\n",
    "print(person1.name)  # Output: Alice\n",
    "print(person1.age)   # Output: 25\n",
    "print(person1.greet())  # Output: Hello, my name is Alice and I am 25 years old."
   ]
  },
  {
   "cell_type": "markdown",
   "metadata": {},
   "source": [
    "# 1. Hello, World! (First Program)\n",
    "\n",
    "This is a simple introduction to Python syntax and the print() function."
   ]
  },
  {
   "cell_type": "code",
   "execution_count": null,
   "metadata": {},
   "outputs": [],
   "source": [
    "# Basic \"Hello, World!\" example\n",
    "#Down Below !!!"
   ]
  },
  {
   "cell_type": "markdown",
   "metadata": {},
   "source": [
    "# 2. Basic Math Operations\n",
    "\n",
    "Introduce variables and arithmetic operators."
   ]
  },
  {
   "cell_type": "code",
   "execution_count": 5,
   "metadata": {},
   "outputs": [
    {
     "ename": "SyntaxError",
     "evalue": "invalid syntax (1682478248.py, line 5)",
     "output_type": "error",
     "traceback": [
      "\u001b[0;36m  Cell \u001b[0;32mIn[5], line 5\u001b[0;36m\u001b[0m\n\u001b[0;31m    +\u001b[0m\n\u001b[0m     ^\u001b[0m\n\u001b[0;31mSyntaxError\u001b[0m\u001b[0;31m:\u001b[0m invalid syntax\n"
     ]
    }
   ],
   "source": [
    "# Simple math operations\n",
    "\n",
    "\n",
    "# Addition\n",
    "+\n",
    "# Subtraction\n",
    "-\n",
    "# Multiplication\n",
    "*\n",
    "# Division\n",
    "/\n",
    " #The thing is we need to deal with numbers at that, not string "
   ]
  },
  {
   "cell_type": "markdown",
   "metadata": {},
   "source": [
    "# 3. Getting User Input\n",
    "\n",
    "Demonstrates how to interact with the user via input()."
   ]
  },
  {
   "cell_type": "code",
   "execution_count": null,
   "metadata": {},
   "outputs": [],
   "source": [
    "# Getting user input and using it\n",
    "import time\n",
    "import string\n",
    "\n",
    "\n",
    "target = input(\"input the target: \")\n",
    "\n",
    "\n",
    "for char in target:\n",
    "    if char == \" \":  \n",
    "        print(\" \", end=\"\", flush=True)\n",
    "        continue\n",
    "    \n",
    "    \n",
    "    for letter in string.ascii_letters:\n",
    "        print(letter, end=\"\", flush=True)\n",
    "        time.sleep(0.05)  \n",
    "        print(\"\\b\", end=\"\", flush=True)  \n",
    "        \n",
    "        # When the correct letter is found, print it and break\n",
    "        if letter == char:\n",
    "            print(char, end=\"\", flush=True)\n",
    "            break\n",
    "    else:\n",
    "        print()  \n",
    "\n",
    "# Working with numbers\n",
    "\n",
    "\n",
    "\n",
    "#I guess this will be enough for the whole lesson, Thank you!!!"
   ]
  },
  {
   "cell_type": "markdown",
   "metadata": {},
   "source": [
    "# 4. If Statements (Conditionals)\n",
    "\n",
    "Introduce the concept of decision-making using if, else, and elif."
   ]
  },
  {
   "cell_type": "code",
   "execution_count": null,
   "metadata": {},
   "outputs": [],
   "source": [
    "# Basic if-else example\n"
   ]
  },
  {
   "cell_type": "markdown",
   "metadata": {},
   "source": [
    "# 5. For Loop (Iteration)\n",
    "\n",
    "A basic introduction to loops with a for loop that repeats a certain number of times."
   ]
  },
  {
   "cell_type": "code",
   "execution_count": null,
   "metadata": {},
   "outputs": [],
   "source": [
    "# Basic for loop example\n"
   ]
  },
  {
   "cell_type": "markdown",
   "metadata": {},
   "source": [
    "# 6. While Loop (Iteration with Condition)\n",
    "\n",
    "Demonstrates a loop that runs until a condition is met."
   ]
  },
  {
   "cell_type": "code",
   "execution_count": null,
   "metadata": {},
   "outputs": [],
   "source": [
    "# Basic while loop example\n"
   ]
  },
  {
   "cell_type": "markdown",
   "metadata": {},
   "source": [
    "# 7. Basic Function Example\n",
    "\n",
    "Introducing how to write and call functions."
   ]
  },
  {
   "cell_type": "code",
   "execution_count": null,
   "metadata": {},
   "outputs": [],
   "source": [
    "# Function to greet the user\n"
   ]
  },
  {
   "cell_type": "markdown",
   "metadata": {},
   "source": [
    "# 8. Simple Temperature Converter\n",
    "\n",
    "Combines input, conditionals, and functions in a real-world example."
   ]
  },
  {
   "cell_type": "code",
   "execution_count": null,
   "metadata": {},
   "outputs": [],
   "source": [
    "# Function to convert Celsius to Fahrenheit\n",
    "\n",
    "\n",
    "# Get temperature from user\n"
   ]
  },
  {
   "cell_type": "markdown",
   "metadata": {},
   "source": [
    "# 9. Simple Guessing Game\n",
    "\n",
    "A fun exercise that involves loops, conditionals, and randomness."
   ]
  },
  {
   "cell_type": "code",
   "execution_count": null,
   "metadata": {},
   "outputs": [],
   "source": [
    "\n",
    "# Generate a random number between 1 and 10\n",
    "\n",
    "\n",
    "# Keep asking the user until they guess correctly\n"
   ]
  },
  {
   "cell_type": "markdown",
   "metadata": {},
   "source": [
    "# 10. FizzBuzz (Classic Example)\n",
    "\n",
    "A popular coding challenge that helps beginners practice conditionals and loops.\n",
    "\n",
    "**Problem Statement:**\n",
    "\n",
    "Print numbers from 1 to n, where n is a positive integer. For each number:\n",
    "\n",
    "- Print \"Fizz\" if the number is divisible by 3.\n",
    "- Print \"Buzz\" if the number is divisible by 5.\n",
    "- Print \"FizzBuzz\" if the number is divisible by both 3 and 5.\n",
    "- Print the number itself if it is not divisible by either 3 or 5."
   ]
  },
  {
   "cell_type": "code",
   "execution_count": null,
   "metadata": {},
   "outputs": [],
   "source": [
    "# FizzBuzz example\n"
   ]
  },
  {
   "cell_type": "markdown",
   "metadata": {},
   "source": [
    "# Bonus: Recursive Fibonacci Function\n",
    "\n",
    "A more advanced example that demonstrates recursion."
   ]
  },
  {
   "cell_type": "code",
   "execution_count": null,
   "metadata": {},
   "outputs": [],
   "source": [
    "def fibonacci(n):\n",
    "    # Base cases\n",
    "\n",
    "        # Recursive case: F(n) = F(n-1) + F(n-2)\n",
    "        \n",
    "\n",
    "# Example usage\n"
   ]
  },
  {
   "cell_type": "code",
   "execution_count": null,
   "metadata": {},
   "outputs": [],
   "source": []
  }
 ],
 "metadata": {
  "kernelspec": {
   "display_name": "Python 3",
   "language": "python",
   "name": "python3"
  },
  "language_info": {
   "codemirror_mode": {
    "name": "ipython",
    "version": 3
   },
   "file_extension": ".py",
   "mimetype": "text/x-python",
   "name": "python",
   "nbconvert_exporter": "python",
   "pygments_lexer": "ipython3",
   "version": "3.12.1"
  }
 },
 "nbformat": 4,
 "nbformat_minor": 2
}
